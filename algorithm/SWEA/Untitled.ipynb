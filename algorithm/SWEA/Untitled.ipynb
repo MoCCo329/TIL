{
 "cells": [
  {
   "cell_type": "markdown",
   "id": "04dbb843",
   "metadata": {},
   "source": [
    "#2072. 홀수만 더하기"
   ]
  },
  {
   "cell_type": "code",
   "execution_count": 81,
   "id": "6246fad8",
   "metadata": {},
   "outputs": [
    {
     "name": "stdout",
     "output_type": "stream",
     "text": [
      "1\n",
      "1 3 5 2 4 6\n",
      "#1 9\n"
     ]
    }
   ],
   "source": [
    "for T in range(int(input())):\n",
    "    print(\"#{} {}\".format(T+1, sum(i for i in map(int, input().split()) if i % 2 == 1)))"
   ]
  },
  {
   "cell_type": "code",
   "execution_count": null,
   "id": "e61a7a5e",
   "metadata": {},
   "outputs": [],
   "source": []
  },
  {
   "cell_type": "markdown",
   "id": "ed759507",
   "metadata": {},
   "source": [
    "#2071. 평균값 구하기"
   ]
  },
  {
   "cell_type": "code",
   "execution_count": 84,
   "id": "9615b069",
   "metadata": {},
   "outputs": [
    {
     "name": "stdout",
     "output_type": "stream",
     "text": [
      "1\n",
      "1 4 6\n",
      "<map object at 0x000001D40103B1C0>\n"
     ]
    }
   ],
   "source": [
    "for T in range(int(input())):\n",
    "    temp_list = map(int, input().split())\n",
    "    temp_sum = 0\n",
    "    temp_cnt = 0\n",
    "    for num in temp_list:\n",
    "        temp_sum += num\n",
    "        temp_cnt += 1\n",
    "        \n",
    "    print('#{} {:.0f}'.format(T+1, temp_sum / temp_cnt))"
   ]
  },
  {
   "cell_type": "markdown",
   "id": "8e0fa26d",
   "metadata": {},
   "source": []
  },
  {
   "cell_type": "markdown",
   "id": "5cb52864",
   "metadata": {},
   "source": [
    "#2070. 큰 놈, 작은 놈, 같은 놈"
   ]
  },
  {
   "cell_type": "code",
   "execution_count": 85,
   "id": "30fc8cfd",
   "metadata": {},
   "outputs": [
    {
     "name": "stdout",
     "output_type": "stream",
     "text": [
      "1\n",
      "1 4\n",
      "#1 <\n"
     ]
    }
   ],
   "source": [
    "for T in range(int(input())):\n",
    "    left, right = map(int, input().split())\n",
    "    \n",
    "    if left > right:\n",
    "        print('#{} >'.format(T+1))\n",
    "    elif left == right:\n",
    "        print('#{} ='.format(T+1))\n",
    "    else:\n",
    "        print('#{} <'.format(T+1))"
   ]
  },
  {
   "cell_type": "code",
   "execution_count": null,
   "id": "28c49bb3",
   "metadata": {},
   "outputs": [],
   "source": []
  },
  {
   "cell_type": "markdown",
   "id": "58e772da",
   "metadata": {},
   "source": [
    "#2068. 최대수 구하기"
   ]
  },
  {
   "cell_type": "code",
   "execution_count": 87,
   "id": "36bbdbd0",
   "metadata": {},
   "outputs": [
    {
     "name": "stdout",
     "output_type": "stream",
     "text": [
      "1\n",
      "1 3\n",
      "#1 3\n"
     ]
    }
   ],
   "source": [
    "for T in range(int(input())):\n",
    "    numbers = list(map(int, input().split()))\n",
    "        \n",
    "    max_temp = numbers[0]\n",
    "    \n",
    "    for i in range(1, len(numbers)):\n",
    "        if numbers[i] > max_temp:\n",
    "            max_temp = numbers[i]\n",
    "                \n",
    "    print('#{} {}'.format(T+1, max_temp))"
   ]
  },
  {
   "cell_type": "code",
   "execution_count": null,
   "id": "857114b7",
   "metadata": {},
   "outputs": [],
   "source": []
  },
  {
   "cell_type": "markdown",
   "id": "77d38050",
   "metadata": {},
   "source": [
    "#2063. 중간값 찾기"
   ]
  },
  {
   "cell_type": "code",
   "execution_count": 96,
   "id": "d899feaf",
   "metadata": {},
   "outputs": [
    {
     "name": "stdout",
     "output_type": "stream",
     "text": [
      "123\n",
      "85 72 38 80 69 65 68 96 22 49 67 51 61 63 87 66 24 80 83 71 60 64 52 90 60 49 31 23 99 94 11 25 24 51 15 13 39 67 97 19 76 12 33 99 18 92 35 74 0 95 71 39 33 39 32 37 45 57 71 95 5 71 24 86 8 51 54 74 24 75 70 33 63 29 99 59 94 52 13 35 99 46 57 71 23 17 3 94 48 77 18 83 11 83 25 59 62 2 78 86 7 94 65 80 32 39 84 60 65 72 61 58 84 8 72 12 19 47 49 49 59 71 52 34 22 21 20 92 33 80 39 74 9 28 97 100 93 29 25 4 66 79 81 98 21 91 62 82 4 59 100 34 1 51 80 92 69 77 39 38 97 51 34 35 19 22 1 67 9 90 31 82 11 51 84 78 70 74 42 100 88 53 80 57 62 32 51 48 63 92 46 4 61 31 98 69 52 88 20\n",
      "75\n",
      "[85, 72, 38, 80, 69, 65, 68, 96, 22, 49, 67, 51, 61, 63, 87, 66, 24, 80, 83, 71, 60, 64, 52, 90, 60, 49, 31, 23, 99, 94, 25, 24, 51, 39, 67, 97, 76, 33, 99, 92, 35, 74, 95, 71, 39, 33, 39, 32, 37, 45, 57, 71, 95, 71, 24, 86, 51, 54, 74, 24, 75, 70, 33, 63, 29, 99, 59, 94, 52, 35, 99, 46, 57, 71, 23, 94, 48, 77, 83, 83, 25, 59, 62, 78, 86, 94, 65, 80, 32, 39, 84, 60, 65, 72, 61, 58, 84, 72, 47, 49, 49, 59, 71, 52, 34, 22, 21, 92, 33, 80, 39, 74, 28, 97, 100, 93, 29, 25, 66, 79, 81, 98, 21, 91, 62, 82, 59, 100, 34, 51, 80, 92, 69, 77, 39, 38, 97, 51, 34, 35, 22, 67, 90, 31, 82, 51, 84, 78, 70, 74, 42, 100, 88, 53, 80, 57, 62, 32, 51, 48, 63, 92, 46, 61, 31, 98, 69, 52, 88] \n",
      " [11, 15, 13, 19, 12, 18, 0, 5, 8, 13, 17, 3, 18, 11, 2, 7, 8, 12, 19, 9, 4, 4, 1, 19, 1, 9, 11, 4]\n"
     ]
    }
   ],
   "source": [
    "T = int(input())\n",
    "numbers = list(map(int, input().split()))\n",
    "\n",
    "gap_i = (len(numbers), 0)\n",
    "\n",
    "for number in numbers:\n",
    "    large_list = []\n",
    "    small_list = []\n",
    "    for i in range(len(numbers)):\n",
    "        if number > numbers[i]:\n",
    "            large_list.append(numbers[i])\n",
    "        elif number < numbers[i]:\n",
    "            small_list.append(numbers[i])\n",
    "        else:\n",
    "            pass\n",
    "        \n",
    "        if gap_i[0] >= abs(len(large_list)-len(small_list)):\n",
    "            gap_i = [abs(len(large_list)-len(small_list)), number]\n",
    "\n",
    "print(numbers[gap_i[1]])\n",
    "print(small_list, \"\\n\", large_list)"
   ]
  },
  {
   "cell_type": "code",
   "execution_count": 97,
   "id": "8229a6bc",
   "metadata": {},
   "outputs": [
    {
     "ename": "TypeError",
     "evalue": "'int' object is not subscriptable",
     "output_type": "error",
     "traceback": [
      "\u001b[1;31m---------------------------------------------------------------------------\u001b[0m",
      "\u001b[1;31mTypeError\u001b[0m                                 Traceback (most recent call last)",
      "Input \u001b[1;32mIn [97]\u001b[0m, in \u001b[0;36m<module>\u001b[1;34m\u001b[0m\n\u001b[0;32m     14\u001b[0m         \u001b[38;5;28;01melse\u001b[39;00m:\n\u001b[0;32m     15\u001b[0m             \u001b[38;5;28;01mpass\u001b[39;00m\n\u001b[1;32m---> 17\u001b[0m         \u001b[38;5;28;01mif\u001b[39;00m \u001b[43mgap_i\u001b[49m\u001b[43m[\u001b[49m\u001b[38;5;241;43m-\u001b[39;49m\u001b[38;5;241;43m1\u001b[39;49m\u001b[43m]\u001b[49m\u001b[43m[\u001b[49m\u001b[38;5;241;43m0\u001b[39;49m\u001b[43m]\u001b[49m \u001b[38;5;241m>\u001b[39m\u001b[38;5;241m=\u001b[39m \u001b[38;5;28mabs\u001b[39m(\u001b[38;5;28mlen\u001b[39m(large_list)\u001b[38;5;241m-\u001b[39m\u001b[38;5;28mlen\u001b[39m(small_list)):\n\u001b[0;32m     18\u001b[0m             gap_i\u001b[38;5;241m.\u001b[39mappend([\u001b[38;5;28mabs\u001b[39m(\u001b[38;5;28mlen\u001b[39m(large_list)\u001b[38;5;241m-\u001b[39m\u001b[38;5;28mlen\u001b[39m(small_list)), number])\n\u001b[0;32m     20\u001b[0m \u001b[38;5;28;01mif\u001b[39;00m gap_i[\u001b[38;5;241m-\u001b[39m\u001b[38;5;241m1\u001b[39m] \u001b[38;5;241m==\u001b[39m gap_i[\u001b[38;5;241m-\u001b[39m\u001b[38;5;241m2\u001b[39m]:\n",
      "\u001b[1;31mTypeError\u001b[0m: 'int' object is not subscriptable"
     ]
    }
   ],
   "source": [
    "numbers = [1, 2, 5, 4, 2, 1]\n",
    "\n",
    "\n",
    "gap_i = ([len(numbers), 0])\n",
    "\n",
    "for number in numbers:\n",
    "    large_list = []\n",
    "    small_list = []\n",
    "    for i in range(len(numbers)):\n",
    "        if number > numbers[i]:\n",
    "            large_list.append(numbers[i])\n",
    "        elif number < numbers[i]:\n",
    "            small_list.append(numbers[i])\n",
    "        else:\n",
    "            pass\n",
    "        \n",
    "        if gap_i[-1][0] >= abs(len(large_list)-len(small_list)):\n",
    "            gap_i.append([abs(len(large_list)-len(small_list)), number])\n",
    "\n",
    "if gap_i[-1] == gap_i[-2]:\n",
    "    print((gap_i[-1][1] + gap_i[-2][1])/2)\n",
    "else:\n",
    "    print(gap_i[-1][1])\n",
    "\n",
    "\n",
    "# 앞 숫자들의 수와 뒤 숫자들의 수 차가 가장 작을때 까지 진행 (while 더 커지는 순간 종료)\n",
    "# 가장 작은 수부터 차래대로 그 숫자를 작은 리스트에 넣고 작은 리스트의 길이와 큰 리스트의 길이를 비교\n",
    "# 큰 리스트는 "
   ]
  },
  {
   "cell_type": "code",
   "execution_count": 107,
   "id": "8ef138c8",
   "metadata": {},
   "outputs": [
    {
     "name": "stdout",
     "output_type": "stream",
     "text": [
      "apple,rottenBanana,apple,RoTTenorange,Orange\n",
      "['apple', 'banana', 'apple', 'orange', 'orange']\n"
     ]
    }
   ],
   "source": [
    "fruits = list(map(str, input().split(',')))\n",
    "\n",
    "for i in range(len(fruits)):\n",
    "    fruits[i] = fruits[i].lower().replace('rotten','')\n",
    "\n",
    "print(fruits)"
   ]
  },
  {
   "cell_type": "code",
   "execution_count": null,
   "id": "aaa66eea",
   "metadata": {},
   "outputs": [],
   "source": []
  },
  {
   "cell_type": "code",
   "execution_count": null,
   "id": "e3b1858c",
   "metadata": {},
   "outputs": [],
   "source": []
  },
  {
   "cell_type": "code",
   "execution_count": 35,
   "id": "4c86c7e2",
   "metadata": {},
   "outputs": [
    {
     "data": {
      "text/plain": [
       "{'a', 'n'}"
      ]
     },
     "execution_count": 35,
     "metadata": {},
     "output_type": "execute_result"
    }
   ],
   "source": [
    "def duplicated_letters(word):\n",
    "    duplicated_words = [char for char in word]\n",
    "    duplicated_chars = set()\n",
    "    \n",
    "    for i in range(len(duplicated_words)):\n",
    "        temp = duplicated_words[-1]\n",
    "        duplicated_words.pop()\n",
    "        if temp in duplicated_words:\n",
    "            duplicated_chars.add(temp)\n",
    "            \n",
    "    return duplicated_chars\n",
    "            \n",
    "duplicated_letters('banana')"
   ]
  },
  {
   "cell_type": "code",
   "execution_count": 49,
   "id": "8cd942fc",
   "metadata": {},
   "outputs": [
    {
     "data": {
      "text/plain": [
       "'aPpLe'"
      ]
     },
     "execution_count": 49,
     "metadata": {},
     "output_type": "execute_result"
    }
   ],
   "source": [
    "def low_and_up(word):\n",
    "    new_word = [char for char in word.lower()]\n",
    "    \n",
    "    for i in range(1, len(word), 2):\n",
    "        new_word[i] = word[i].upper()\n",
    "\n",
    "    return ''.join(new_word)\n",
    "\n",
    "low_and_up('apple')"
   ]
  },
  {
   "cell_type": "code",
   "execution_count": 66,
   "id": "fd82eb8a",
   "metadata": {},
   "outputs": [
    {
     "data": {
      "text/plain": [
       "[1, 3, 0, 1]"
      ]
     },
     "execution_count": 66,
     "metadata": {},
     "output_type": "execute_result"
    }
   ],
   "source": [
    "def lonely(numbers):\n",
    "    new_numbers = []\n",
    "    \n",
    "    while len(numbers) > 1:\n",
    "        temp = numbers.pop(0)\n",
    "        \n",
    "        if len(numbers) == 1:\n",
    "            new_numbers.append(numbers[0])\n",
    "        elif temp == numbers[0]:\n",
    "            continue\n",
    "        else:\n",
    "            new_numbers.append(temp)\n",
    "            \n",
    "    return new_numbers\n",
    "\n",
    "------------------------------\n",
    "\n",
    "def lonely(numbers):\n",
    "    new_numbers = []\n",
    "    \n",
    "    while len(numbers) > 1:\n",
    "        temp = numbers.pop(0)\n",
    "        \n",
    "        if temp == numbers[0]:\n",
    "            continue\n",
    "        else:\n",
    "            new_numbers.append(temp)\n",
    "            \n",
    "    new_numbers.append(numbers[0])\n",
    "            \n",
    "    return new_numbers"
   ]
  },
  {
   "cell_type": "code",
   "execution_count": null,
   "id": "ef11c4df",
   "metadata": {},
   "outputs": [],
   "source": []
  },
  {
   "cell_type": "code",
   "execution_count": 2,
   "id": "5aade6ea",
   "metadata": {},
   "outputs": [],
   "source": [
    "class Person:\n",
    "    \n",
    "    def get_name(self):\n",
    "        return self.name\n",
    "    \n",
    "    def set_name(self, name):\n",
    "        self.name = name"
   ]
  },
  {
   "cell_type": "code",
   "execution_count": 3,
   "id": "d3bcfe61",
   "metadata": {},
   "outputs": [
    {
     "ename": "AttributeError",
     "evalue": "'Person' object has no attribute 'name'",
     "output_type": "error",
     "traceback": [
      "\u001b[1;31m---------------------------------------------------------------------------\u001b[0m",
      "\u001b[1;31mAttributeError\u001b[0m                            Traceback (most recent call last)",
      "Input \u001b[1;32mIn [3]\u001b[0m, in \u001b[0;36m<module>\u001b[1;34m\u001b[0m\n\u001b[0;32m      1\u001b[0m p1 \u001b[38;5;241m=\u001b[39m Person()\n\u001b[1;32m----> 2\u001b[0m \u001b[43mp1\u001b[49m\u001b[38;5;241;43m.\u001b[39;49m\u001b[43mget_name\u001b[49m\u001b[43m(\u001b[49m\u001b[43m)\u001b[49m\n",
      "Input \u001b[1;32mIn [2]\u001b[0m, in \u001b[0;36mPerson.get_name\u001b[1;34m(self)\u001b[0m\n\u001b[0;32m      3\u001b[0m \u001b[38;5;28;01mdef\u001b[39;00m \u001b[38;5;21mget_name\u001b[39m(\u001b[38;5;28mself\u001b[39m):\n\u001b[1;32m----> 4\u001b[0m     \u001b[38;5;28;01mreturn\u001b[39;00m \u001b[38;5;28;43mself\u001b[39;49m\u001b[38;5;241;43m.\u001b[39;49m\u001b[43mname\u001b[49m\n",
      "\u001b[1;31mAttributeError\u001b[0m: 'Person' object has no attribute 'name'"
     ]
    }
   ],
   "source": [
    "p1 = Person()\n",
    "p1.get_name()"
   ]
  },
  {
   "cell_type": "markdown",
   "id": "0bd00f85",
   "metadata": {},
   "source": [
    "### class 내부에서 메소드, 속성을 정의하는 순서가 중요하다"
   ]
  },
  {
   "cell_type": "code",
   "execution_count": null,
   "id": "2bad03b3",
   "metadata": {},
   "outputs": [],
   "source": []
  },
  {
   "cell_type": "code",
   "execution_count": null,
   "id": "9795b4cc",
   "metadata": {},
   "outputs": [],
   "source": []
  },
  {
   "cell_type": "code",
   "execution_count": null,
   "id": "1a70d423",
   "metadata": {},
   "outputs": [],
   "source": []
  },
  {
   "cell_type": "code",
   "execution_count": null,
   "id": "41ce2b7c",
   "metadata": {},
   "outputs": [],
   "source": []
  },
  {
   "cell_type": "code",
   "execution_count": null,
   "id": "7d21ada7",
   "metadata": {},
   "outputs": [],
   "source": []
  },
  {
   "cell_type": "code",
   "execution_count": null,
   "id": "09e99c84",
   "metadata": {},
   "outputs": [],
   "source": []
  },
  {
   "cell_type": "code",
   "execution_count": null,
   "id": "a8bb60b6",
   "metadata": {},
   "outputs": [],
   "source": []
  }
 ],
 "metadata": {
  "kernelspec": {
   "display_name": "Python 3 (ipykernel)",
   "language": "python",
   "name": "python3"
  },
  "language_info": {
   "codemirror_mode": {
    "name": "ipython",
    "version": 3
   },
   "file_extension": ".py",
   "mimetype": "text/x-python",
   "name": "python",
   "nbconvert_exporter": "python",
   "pygments_lexer": "ipython3",
   "version": "3.9.9"
  },
  "toc": {
   "base_numbering": 1,
   "nav_menu": {},
   "number_sections": true,
   "sideBar": true,
   "skip_h1_title": false,
   "title_cell": "Table of Contents",
   "title_sidebar": "Contents",
   "toc_cell": false,
   "toc_position": {},
   "toc_section_display": true,
   "toc_window_display": false
  }
 },
 "nbformat": 4,
 "nbformat_minor": 5
}
