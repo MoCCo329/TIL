{
 "cells": [
  {
   "cell_type": "markdown",
   "id": "04dbb843",
   "metadata": {},
   "source": [
    "#2072. 홀수만 더하기"
   ]
  },
  {
   "cell_type": "code",
   "execution_count": 81,
   "id": "6246fad8",
   "metadata": {},
   "outputs": [
    {
     "name": "stdout",
     "output_type": "stream",
     "text": [
      "1\n",
      "1 3 5 2 4 6\n",
      "#1 9\n"
     ]
    }
   ],
   "source": [
    "for T in range(int(input())):\n",
    "    print(\"#{} {}\".format(T+1, sum(i for i in map(int, input().split()) if i % 2 == 1)))"
   ]
  },
  {
   "cell_type": "code",
   "execution_count": null,
   "id": "e61a7a5e",
   "metadata": {},
   "outputs": [],
   "source": []
  },
  {
   "cell_type": "markdown",
   "id": "ed759507",
   "metadata": {},
   "source": [
    "#2071. 평균값 구하기"
   ]
  },
  {
   "cell_type": "code",
   "execution_count": 2,
   "id": "9615b069",
   "metadata": {},
   "outputs": [
    {
     "name": "stdout",
     "output_type": "stream",
     "text": [
      "1\n",
      "12 13 14 15\n",
      "#1 14\n"
     ]
    }
   ],
   "source": [
    "for T in range(int(input())):\n",
    "    temp_list = map(int, input().split())\n",
    "    temp_sum = 0\n",
    "    temp_cnt = 0\n",
    "    for num in temp_list:\n",
    "        temp_sum += num\n",
    "        temp_cnt += 1\n",
    "        \n",
    "    print('#{} {:.0f}'.format(T+1, temp_sum / temp_cnt))"
   ]
  },
  {
   "cell_type": "markdown",
   "id": "5cb52864",
   "metadata": {},
   "source": [
    "#2070. 큰 놈, 작은 놈, 같은 놈"
   ]
  },
  {
   "cell_type": "code",
   "execution_count": 3,
   "id": "30fc8cfd",
   "metadata": {},
   "outputs": [
    {
     "name": "stdout",
     "output_type": "stream",
     "text": [
      "1\n",
      "1 2\n",
      "#1 <\n"
     ]
    }
   ],
   "source": [
    "for T in range(int(input())):\n",
    "    left, right = map(int, input().split())\n",
    "    \n",
    "    if left > right:\n",
    "        print('#{} >'.format(T+1))\n",
    "    elif left == right:\n",
    "        print('#{} ='.format(T+1))\n",
    "    else:\n",
    "        print('#{} <'.format(T+1))"
   ]
  },
  {
   "cell_type": "code",
   "execution_count": null,
   "id": "28c49bb3",
   "metadata": {},
   "outputs": [],
   "source": []
  },
  {
   "cell_type": "markdown",
   "id": "58e772da",
   "metadata": {},
   "source": [
    "#2068. 최대수 구하기"
   ]
  },
  {
   "cell_type": "code",
   "execution_count": 87,
   "id": "36bbdbd0",
   "metadata": {},
   "outputs": [
    {
     "name": "stdout",
     "output_type": "stream",
     "text": [
      "1\n",
      "1 3\n",
      "#1 3\n"
     ]
    }
   ],
   "source": [
    "for T in range(int(input())):\n",
    "    numbers = list(map(int, input().split()))\n",
    "        \n",
    "    max_temp = numbers[0]\n",
    "    \n",
    "    for i in range(1, len(numbers)):\n",
    "        if numbers[i] > max_temp:\n",
    "            max_temp = numbers[i]\n",
    "                \n",
    "    print('#{} {}'.format(T+1, max_temp))"
   ]
  },
  {
   "cell_type": "code",
   "execution_count": null,
   "id": "857114b7",
   "metadata": {},
   "outputs": [],
   "source": []
  },
  {
   "cell_type": "markdown",
   "id": "77d38050",
   "metadata": {},
   "source": [
    "#2063. 중간값 찾기"
   ]
  },
  {
   "cell_type": "code",
   "execution_count": 5,
   "id": "d899feaf",
   "metadata": {},
   "outputs": [
    {
     "name": "stdout",
     "output_type": "stream",
     "text": [
      "1\n",
      "1 2 3 4 5 6 7 8 9\n",
      "5\n"
     ]
    }
   ],
   "source": [
    "T = int(input())\n",
    "nums = list(map(int, input().split()))\n",
    "nums.sort()\n",
    "\n",
    "if len(nums) % 2 == 1:\n",
    "    print(nums[len(nums)//2])\n",
    "    \n",
    "else:\n",
    "    print(nums[len(nums)/2 - 1])"
   ]
  },
  {
   "cell_type": "code",
   "execution_count": null,
   "id": "aaa66eea",
   "metadata": {},
   "outputs": [],
   "source": []
  },
  {
   "cell_type": "markdown",
   "id": "7d740b61",
   "metadata": {},
   "source": [
    "#2058. 자릿수 더하기"
   ]
  },
  {
   "cell_type": "code",
   "execution_count": 9,
   "id": "ef11c4df",
   "metadata": {},
   "outputs": [
    {
     "name": "stdout",
     "output_type": "stream",
     "text": [
      "1234\n",
      "10\n"
     ]
    }
   ],
   "source": [
    "num = int(input())\n",
    "total = 0\n",
    "\n",
    "while num >= 1:\n",
    "    total += num % 10\n",
    "    num = num // 10\n",
    "    \n",
    "print(total)"
   ]
  },
  {
   "cell_type": "code",
   "execution_count": null,
   "id": "2bad03b3",
   "metadata": {},
   "outputs": [],
   "source": []
  },
  {
   "cell_type": "markdown",
   "id": "b53f27e2",
   "metadata": {},
   "source": [
    "#2056. 연월일 달력"
   ]
  },
  {
   "cell_type": "code",
   "execution_count": 25,
   "id": "1a70d423",
   "metadata": {},
   "outputs": [
    {
     "name": "stdout",
     "output_type": "stream",
     "text": [
      "5\n",
      "22220228\n",
      "2222/02/28\n",
      "20150002\n",
      "-1\n",
      "01010101\n",
      "0101/01/01\n",
      "20140230\n",
      "-1\n",
      "11111111\n",
      "1111/11/11\n"
     ]
    }
   ],
   "source": [
    "for T in range(int(input())):\n",
    "    data = input()\n",
    "\n",
    "    if int(data[4:6]) in [1, 3, 5, 7, 8, 10, 12]:\n",
    "        if 1 <= int(data[6:8]) <= 31:\n",
    "            print(f'#{T+1} {data[0:4]}/{data[4:6]}/{data[6:8]}')\n",
    "        else:\n",
    "            print(f'#{T+1} -1')\n",
    "\n",
    "    elif int(data[4:6]) in [4, 6, 9, 11]:\n",
    "        if 1 <= int(data[6:8]) <= 30:\n",
    "            print(f'#{T+1} {data[0:4]}/{data[4:6]}/{data[6:8]}')\n",
    "        else:\n",
    "            print(f'#{T+1} -1')\n",
    "\n",
    "    elif int(data[4:6]) == 2:\n",
    "        if 1 <= int(data[6:8]) <= 28:\n",
    "            print(f'#{T+1} {data[0:4]}/{data[4:6]}/{data[6:8]}')\n",
    "        else:\n",
    "            print(f'#{T+1} -1')\n",
    "\n",
    "    else:\n",
    "        print(f'#{T+1} -1')"
   ]
  },
  {
   "cell_type": "code",
   "execution_count": null,
   "id": "41ce2b7c",
   "metadata": {},
   "outputs": [],
   "source": []
  },
  {
   "cell_type": "markdown",
   "id": "eb1791fd",
   "metadata": {},
   "source": [
    "#2020. 알파벳을 숫자로 변환"
   ]
  },
  {
   "cell_type": "code",
   "execution_count": 27,
   "id": "09e99c84",
   "metadata": {},
   "outputs": [
    {
     "name": "stdout",
     "output_type": "stream",
     "text": [
      "ABCDEFGHIJKLMNOPQRSTUVWXYZ\n",
      "1 2 3 4 5 6 7 8 9 10 11 12 13 14 15 16 17 18 19 20 21 22 23 24 25 26 "
     ]
    }
   ],
   "source": [
    "alpa = input()\n",
    "for char in alpa:\n",
    "    print(ord(char) - 64, end = ' ')"
   ]
  },
  {
   "cell_type": "code",
   "execution_count": null,
   "id": "a8bb60b6",
   "metadata": {},
   "outputs": [],
   "source": []
  },
  {
   "cell_type": "markdown",
   "id": "9f3b73ad",
   "metadata": {},
   "source": [
    "#2047. 신문 헤드라인"
   ]
  },
  {
   "cell_type": "code",
   "execution_count": null,
   "id": "717a2550",
   "metadata": {},
   "outputs": [],
   "source": [
    "print(input().upper())"
   ]
  },
  {
   "cell_type": "code",
   "execution_count": null,
   "id": "f929105d",
   "metadata": {},
   "outputs": [],
   "source": []
  },
  {
   "cell_type": "markdown",
   "id": "90c4cecf",
   "metadata": {},
   "source": [
    "#2046. 스탬프 찍기"
   ]
  },
  {
   "cell_type": "code",
   "execution_count": 39,
   "id": "3fa0fdd1",
   "metadata": {},
   "outputs": [
    {
     "name": "stdout",
     "output_type": "stream",
     "text": [
      "6\n",
      "######\n"
     ]
    }
   ],
   "source": [
    "print('#' * int(input()))"
   ]
  },
  {
   "cell_type": "code",
   "execution_count": null,
   "id": "018adfae",
   "metadata": {},
   "outputs": [],
   "source": []
  },
  {
   "cell_type": "markdown",
   "id": "a3f8a9c3",
   "metadata": {},
   "source": [
    "#2043. 서랍의 비밀번호"
   ]
  },
  {
   "cell_type": "code",
   "execution_count": 43,
   "id": "226da9ff",
   "metadata": {},
   "outputs": [
    {
     "name": "stdout",
     "output_type": "stream",
     "text": [
      "123 100\n",
      "24\n"
     ]
    }
   ],
   "source": [
    "a, b = map(int, input().split())\n",
    "print(a - b + 1)"
   ]
  },
  {
   "cell_type": "code",
   "execution_count": null,
   "id": "8e46dfa0",
   "metadata": {},
   "outputs": [],
   "source": []
  },
  {
   "cell_type": "markdown",
   "id": "17f29eca",
   "metadata": {},
   "source": [
    "#2029. 몫과 나머지 출력하기"
   ]
  },
  {
   "cell_type": "code",
   "execution_count": 49,
   "id": "41631834",
   "metadata": {},
   "outputs": [
    {
     "name": "stdout",
     "output_type": "stream",
     "text": [
      "3\n",
      "9 2\n",
      "1 4 1\n",
      "15 6\n",
      "2 2 3\n",
      "369 15\n",
      "3 24 9\n"
     ]
    }
   ],
   "source": [
    "for T in range(int(input())):\n",
    "    a, b = map(int, input().split())\n",
    "    print(f'#{T+1} {a // b} {a % b}')"
   ]
  },
  {
   "cell_type": "code",
   "execution_count": null,
   "id": "b28289da",
   "metadata": {},
   "outputs": [],
   "source": []
  },
  {
   "cell_type": "markdown",
   "id": "a58b42a2",
   "metadata": {},
   "source": [
    "#2027. 대각선 출력하기"
   ]
  },
  {
   "cell_type": "code",
   "execution_count": 51,
   "id": "60e59273",
   "metadata": {},
   "outputs": [
    {
     "name": "stdout",
     "output_type": "stream",
     "text": [
      "#++++\n",
      "+#+++\n",
      "++#++\n",
      "+++#+\n",
      "++++#\n"
     ]
    }
   ],
   "source": [
    "for i in range(5):\n",
    "    print('+'*i + '#' + '+'*(4-i))"
   ]
  },
  {
   "cell_type": "code",
   "execution_count": null,
   "id": "573ed800",
   "metadata": {},
   "outputs": [],
   "source": []
  },
  {
   "cell_type": "markdown",
   "id": "32551be1",
   "metadata": {},
   "source": [
    "#2025. N줄덧셈"
   ]
  },
  {
   "cell_type": "code",
   "execution_count": 55,
   "id": "b1910ce1",
   "metadata": {},
   "outputs": [
    {
     "name": "stdout",
     "output_type": "stream",
     "text": [
      "10\n",
      "55\n"
     ]
    }
   ],
   "source": [
    "total = 0\n",
    "for i in range(1, int(input())+1):\n",
    "    total += i\n",
    "    \n",
    "print(total)"
   ]
  },
  {
   "cell_type": "code",
   "execution_count": null,
   "id": "16c2ad44",
   "metadata": {},
   "outputs": [],
   "source": []
  },
  {
   "cell_type": "markdown",
   "id": "dd53446a",
   "metadata": {},
   "source": [
    "#1938. 아주 간단한 계산기"
   ]
  },
  {
   "cell_type": "code",
   "execution_count": 64,
   "id": "c5f7beaa",
   "metadata": {},
   "outputs": [
    {
     "name": "stdout",
     "output_type": "stream",
     "text": [
      "8 3\n",
      "11\n",
      "5\n",
      "24\n",
      "2\n"
     ]
    }
   ],
   "source": [
    "a, b = map(int, input().split())\n",
    "print(f'{a+b}\\n{a-b}\\n{a*b}\\n{a//b}')"
   ]
  },
  {
   "cell_type": "code",
   "execution_count": null,
   "id": "48bcbe6c",
   "metadata": {},
   "outputs": [],
   "source": []
  },
  {
   "cell_type": "markdown",
   "id": "dd744e0f",
   "metadata": {},
   "source": [
    "#1933. 간단한 N 의 약수"
   ]
  },
  {
   "cell_type": "code",
   "execution_count": 66,
   "id": "d39661db",
   "metadata": {},
   "outputs": [
    {
     "name": "stdout",
     "output_type": "stream",
     "text": [
      "10\n",
      "1 2 5 10 "
     ]
    }
   ],
   "source": [
    "num = int(input())\n",
    "for i in range(1, num+1):\n",
    "    if num % i == 0:\n",
    "        print(i, end = ' ')"
   ]
  },
  {
   "cell_type": "code",
   "execution_count": 8,
   "id": "37137d32",
   "metadata": {},
   "outputs": [
    {
     "name": "stdout",
     "output_type": "stream",
     "text": [
      "10\n",
      "1 2 5 10\n"
     ]
    }
   ],
   "source": [
    "num = int(input())\n",
    "print(' '.join([str(i) for i in range(1, num+1) if num % i == 0]))"
   ]
  },
  {
   "cell_type": "code",
   "execution_count": null,
   "id": "7f8f1cf6",
   "metadata": {},
   "outputs": [],
   "source": []
  },
  {
   "cell_type": "markdown",
   "id": "1d9f9be4",
   "metadata": {},
   "source": [
    "#1936. 1대1 가위바위보"
   ]
  },
  {
   "cell_type": "code",
   "execution_count": 34,
   "id": "d7a134cb",
   "metadata": {},
   "outputs": [
    {
     "name": "stdout",
     "output_type": "stream",
     "text": [
      "2 3\n",
      "B\n"
     ]
    }
   ],
   "source": [
    "RSP = list(map(int, input().split()))\n",
    "\n",
    "if RSP[0]*RSP[1] == 2:\n",
    "    print(['A', 'B'][RSP.index(2)])\n",
    "elif RSP[0]*RSP[1] == 6:\n",
    "    print(['A', 'B'][RSP.index(3)])\n",
    "else:\n",
    "    print(['A', 'B'][RSP.index(1)])\n",
    "    \n",
    "# mod(3)으로 푸는게 제일 좋을것 같다."
   ]
  },
  {
   "cell_type": "code",
   "execution_count": null,
   "id": "b6d9e2ee",
   "metadata": {},
   "outputs": [],
   "source": []
  },
  {
   "cell_type": "markdown",
   "id": "393f1487",
   "metadata": {},
   "source": [
    "#2019. 더블더블"
   ]
  },
  {
   "cell_type": "code",
   "execution_count": 37,
   "id": "4929cc5f",
   "metadata": {},
   "outputs": [
    {
     "name": "stdout",
     "output_type": "stream",
     "text": [
      "8\n",
      "1 2 4 8 16 32 64 128 256 "
     ]
    }
   ],
   "source": [
    "T = int(input())\n",
    "\n",
    "for i in range(T+1):\n",
    "    print(2 ** i, end=' ')\n",
    "    \n",
    "#입력값이 커지면 num *= 2 식으로 하는게 빠를것 같다."
   ]
  },
  {
   "cell_type": "code",
   "execution_count": null,
   "id": "f0187bc5",
   "metadata": {},
   "outputs": [],
   "source": []
  },
  {
   "cell_type": "markdown",
   "id": "05b7123e",
   "metadata": {},
   "source": [
    "#1545. 거꾸로 출력해 보아요"
   ]
  },
  {
   "cell_type": "code",
   "execution_count": 54,
   "id": "08f49113",
   "metadata": {},
   "outputs": [
    {
     "name": "stdout",
     "output_type": "stream",
     "text": [
      "8\n",
      "8 7 6 5 4 3 2 1 0\n"
     ]
    }
   ],
   "source": [
    "print(' '.join([str(i) for i in range(int(input()),-1,-1)]))"
   ]
  },
  {
   "cell_type": "code",
   "execution_count": null,
   "id": "5760517a",
   "metadata": {},
   "outputs": [],
   "source": []
  }
 ],
 "metadata": {
  "kernelspec": {
   "display_name": "Python 3 (ipykernel)",
   "language": "python",
   "name": "python3"
  },
  "language_info": {
   "codemirror_mode": {
    "name": "ipython",
    "version": 3
   },
   "file_extension": ".py",
   "mimetype": "text/x-python",
   "name": "python",
   "nbconvert_exporter": "python",
   "pygments_lexer": "ipython3",
   "version": "3.9.9"
  },
  "toc": {
   "base_numbering": 1,
   "nav_menu": {},
   "number_sections": true,
   "sideBar": true,
   "skip_h1_title": false,
   "title_cell": "Table of Contents",
   "title_sidebar": "Contents",
   "toc_cell": false,
   "toc_position": {},
   "toc_section_display": true,
   "toc_window_display": false
  }
 },
 "nbformat": 4,
 "nbformat_minor": 5
}
